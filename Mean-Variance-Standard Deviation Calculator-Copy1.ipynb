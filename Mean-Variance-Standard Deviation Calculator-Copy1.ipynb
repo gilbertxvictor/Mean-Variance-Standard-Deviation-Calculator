{
 "cells": [
  {
   "cell_type": "markdown",
   "id": "d3f98c23-eae1-4dec-af05-a594fc306bdf",
   "metadata": {},
   "source": [
    "#IMPORTING REQUIRED LIBRAR\n",
    "Using only the numpy library ffor fast manipulation of numericalvalues "
   ]
  },
  {
   "cell_type": "code",
   "execution_count": 19,
   "id": "bf64d7c5-7e4f-45b8-b49e-672d27c0dc8c",
   "metadata": {},
   "outputs": [],
   "source": [
    "import numpy as np"
   ]
  },
  {
   "cell_type": "markdown",
   "id": "39e08f04-aacb-42ad-9106-1cae31a7dc0f",
   "metadata": {},
   "source": [
    "#Create an empty dictionary to store values "
   ]
  },
  {
   "cell_type": "code",
   "execution_count": 20,
   "id": "1403e04e-2674-4e01-a5e1-8bf9365a7f65",
   "metadata": {},
   "outputs": [],
   "source": [
    "calculations ={}\n",
    "    "
   ]
  },
  {
   "cell_type": "code",
   "execution_count": 21,
   "id": "426d295f-cbb2-4739-9325-e1f290de3624",
   "metadata": {},
   "outputs": [],
   "source": [
    "#implement numpy array  \n",
    "grp=np.array([0,1,2,3,4,5,6,7,8])\n",
    "\n",
    "#test numpy array for conformity\n",
    "\n",
    "if len(grp)==9:\n",
    "    #reshape numpy array to a 3x3 maxtri for row-wise computaion\n",
    "    relist = grp.reshape(3,3)\n",
    "else :\n",
    "    print(\"List must contain nine numbers\")\n",
    "    calculation['index'] = list[grp]"
   ]
  },
  {
   "cell_type": "markdown",
   "id": "7207e5cc-9597-4a96-b25b-5d01b69a16f6",
   "metadata": {},
   "source": [
    "##finding several statistical computations embedded in the numpy library"
   ]
  },
  {
   "cell_type": "code",
   "execution_count": 32,
   "id": "7734085c-f352-4cc0-9b06-618412cfc6ea",
   "metadata": {},
   "outputs": [
    {
     "name": "stdout",
     "output_type": "stream",
     "text": [
      "{'mean': [[3.0, 4.0, 5.0], [1.0, 4.0, 7.0], 4.0], 'variance': [[6.0, 6.0, 6.0], [0.6666666666666666, 0.6666666666666666, 0.6666666666666666], 6.666666666666667], 'standard, deviation': [[2.449489742783178, 2.449489742783178, 2.449489742783178], [0.816496580927726, 0.816496580927726, 0.816496580927726], 2.581988897471611], 'max': [[6, 7, 8], [2, 5, 8], 8], 'min': [[0, 1, 2], [0, 3, 6], 0], 'sum': [[9, 12, 15], [3, 12, 21], 36]}\n"
     ]
    }
   ],
   "source": [
    "\n",
    "for itemx in ['mean','variance','standard, deviation','max', 'min', 'sum']:\n",
    "    if itemx == 'mean':\n",
    "        a =np.mean\n",
    "        calculations[item] =  [list(a(relist,0)),list(a(relist,1)), a(grp)]\n",
    "    elif itemx == 'variance':\n",
    "        a =np.var\n",
    "        calculations[item] =  [list(a(relist,0)),list(a(relist,1)), a(grp)]\n",
    "    elif itemx == 'standard, deviation':\n",
    "        a =np.std\n",
    "        calculations[item] =  [list(a(relist,0)),list(a(relist,1)), a(grp)]\n",
    "    elif itemx == 'max':\n",
    "        a =np.max\n",
    "        calculations[item] =  [list(a(relist,0)),list(a(relist,1)), a(grp)]\n",
    "    elif itemx == 'min':\n",
    "        a =np.min\n",
    "        calculations[item] =  [list(a(relist,0)),list(a(relist,1)), a(grp)]\n",
    "    elif itemx == 'sum':\n",
    "        a =np.sum\n",
    "        calculations[item] =  [list(a(relist,0)),list(a(relist,1)), a(grp)]\n",
    "  \n",
    "#returns/prints the values in a dictionary\n",
    "print(calculations)\n"
   ]
  },
  {
   "cell_type": "code",
   "execution_count": null,
   "id": "b12dd8b7-3031-45d6-bee4-b8aa5df07de4",
   "metadata": {},
   "outputs": [],
   "source": []
  },
  {
   "cell_type": "code",
   "execution_count": null,
   "id": "efe77762-ae57-474c-906e-217cfbf12306",
   "metadata": {},
   "outputs": [],
   "source": []
  }
 ],
 "metadata": {
  "kernelspec": {
   "display_name": "Python 3 (ipykernel)",
   "language": "python",
   "name": "python3"
  },
  "language_info": {
   "codemirror_mode": {
    "name": "ipython",
    "version": 3
   },
   "file_extension": ".py",
   "mimetype": "text/x-python",
   "name": "python",
   "nbconvert_exporter": "python",
   "pygments_lexer": "ipython3",
   "version": "3.9.7"
  }
 },
 "nbformat": 4,
 "nbformat_minor": 5
}
